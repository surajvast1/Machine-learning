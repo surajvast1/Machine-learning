{
 "cells": [
  {
   "cell_type": "code",
   "execution_count": 3,
   "metadata": {},
   "outputs": [
    {
     "name": "stdout",
     "output_type": "stream",
     "text": [
      "Accuracy: 1.0\n",
      "Classification Report:\n",
      "              precision    recall  f1-score   support\n",
      "\n",
      "           1       1.00      1.00      1.00         2\n",
      "\n",
      "    accuracy                           1.00         2\n",
      "   macro avg       1.00      1.00      1.00         2\n",
      "weighted avg       1.00      1.00      1.00         2\n",
      "\n",
      "Prediction for new instance: Eco\n",
      "Correlation matrix:\n",
      " Satisfaction      NaN\n",
      "Customer Type     NaN\n",
      "Age               NaN\n",
      "Type of Travel    NaN\n",
      "Class             NaN\n",
      "Flight Distance   NaN\n",
      "Name: Customer Type, dtype: float64\n"
     ]
    },
    {
     "name": "stderr",
     "output_type": "stream",
     "text": [
      "/home/shubham/.local/lib/python3.10/site-packages/sklearn/base.py:493: UserWarning: X does not have valid feature names, but LogisticRegression was fitted with feature names\n",
      "  warnings.warn(\n"
     ]
    }
   ],
   "source": [
    "import pandas as pd\n",
    "import numpy as np\n",
    "from sklearn.model_selection import train_test_split\n",
    "from sklearn.linear_model import LogisticRegression\n",
    "from sklearn.preprocessing import LabelEncoder\n",
    "from sklearn.metrics import accuracy_score, classification_report\n",
    "\n",
    "# Data\n",
    "data = {\n",
    "    'Satisfaction': ['satisfied', 'satisfied', 'satisfied', 'satisfied', 'dissatisfied', 'dissatisfied', 'satisfied'],\n",
    "    'Customer Type': ['Loyal Customer', 'Loyal Customer', 'Loyal Customer', 'Loyal Customer', 'Loyal Customer', 'Loyal Customer', 'Loyal Customer'],\n",
    "    'Age': [65, 47, 15, 60, 18, 14, 28],\n",
    "    'Type of Travel': ['Personal Travel', 'Personal Travel', 'Personal Travel', 'Personal Travel', 'Personal Travel', 'Personal Travel', 'Personal Travel'],\n",
    "    'Class': ['Eco', 'Business', 'Eco', 'Eco', 'Eco', 'Eco', 'Eco'],\n",
    "    'Flight Distance': [265, 2464, 2138, 623, 2411, 2541, 3179]\n",
    "}\n",
    "\n",
    "df = pd.DataFrame(data)\n",
    "\n",
    "# Encode categorical variables\n",
    "le = LabelEncoder()\n",
    "df['Satisfaction'] = le.fit_transform(df['Satisfaction'])\n",
    "df['Customer Type'] = le.fit_transform(df['Customer Type'])\n",
    "df['Type of Travel'] = le.fit_transform(df['Type of Travel'])\n",
    "df['Class'] = le.fit_transform(df['Class'])\n",
    "\n",
    "# Split the data into features and target\n",
    "X = df[['Customer Type', 'Age', 'Type of Travel', 'Class', 'Flight Distance']]\n",
    "y = df['Satisfaction']\n",
    "\n",
    "# Train-test split\n",
    "X_train, X_test, y_train, y_test = train_test_split(X, y, test_size=0.2, random_state=42)\n",
    "\n",
    "# Train logistic regression model\n",
    "model = LogisticRegression()\n",
    "model.fit(X_train, y_train)\n",
    "\n",
    "# Predict on the test set\n",
    "y_pred = model.predict(X_test)\n",
    "\n",
    "# Evaluate the model\n",
    "accuracy = accuracy_score(y_test, y_pred)\n",
    "report = classification_report(y_test, y_pred)\n",
    "\n",
    "print(f'Accuracy: {accuracy}')\n",
    "print(f'Classification Report:\\n{report}')\n",
    "\n",
    "# Predict for new instance\n",
    "new_instance = np.array([[0, 30, 0, 0, 600]])  # Encoded values for [Loyal Customer, 30, Personal Travel, Eco, 600]\n",
    "new_pred = model.predict(new_instance)\n",
    "new_pred_label = le.inverse_transform(new_pred)\n",
    "\n",
    "print(f'Prediction for new instance: {new_pred_label[0]}')\n",
    "\n",
    "# Correlation matrix\n",
    "correlation_matrix = df.corr()\n",
    "print('Correlation matrix:\\n', correlation_matrix['Customer Type'])\n"
   ]
  }
 ],
 "metadata": {
  "kernelspec": {
   "display_name": "Python 3",
   "language": "python",
   "name": "python3"
  },
  "language_info": {
   "codemirror_mode": {
    "name": "ipython",
    "version": 3
   },
   "file_extension": ".py",
   "mimetype": "text/x-python",
   "name": "python",
   "nbconvert_exporter": "python",
   "pygments_lexer": "ipython3",
   "version": "3.10.12"
  }
 },
 "nbformat": 4,
 "nbformat_minor": 2
}
