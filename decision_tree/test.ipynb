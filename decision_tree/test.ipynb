{
 "cells": [
  {
   "cell_type": "code",
   "execution_count": 8,
   "metadata": {},
   "outputs": [
    {
     "name": "stdout",
     "output_type": "stream",
     "text": [
      "Performance scores with default hyperparameters:\n",
      "Accuracy: 0.9333333333333333\n",
      "Precision: 0.9365432098765433\n",
      "Recall: 0.9333333333333333\n",
      "F1-score: 0.9341868183973446\n",
      "\n",
      "Performance scores with tuned hyperparameters (max_depth=2):\n",
      "Accuracy: 0.9777777777777777\n",
      "Precision: 0.9788888888888888\n",
      "Recall: 0.9777777777777777\n",
      "F1-score: 0.9774090832914362\n"
     ]
    }
   ],
   "source": [
    "from sklearn.datasets import load_iris\n",
    "from sklearn.model_selection import train_test_split\n",
    "from sklearn.tree import DecisionTreeClassifier\n",
    "from sklearn.metrics import accuracy_score, precision_score, recall_score, f1_score\n",
    "\n",
    "# Load the Iris dataset\n",
    "iris = load_iris()\n",
    "X = iris[\"data\"][:, 2:]  # Use petal length and width as features\n",
    "y = iris[\"target\"]\n",
    "\n",
    "# Split the data into training and testing sets\n",
    "X_train, X_test, y_train, y_test = train_test_split(X, y, test_size=0.3)\n",
    "\n",
    "# Train a decision tree classifier with default hyperparameters\n",
    "classifier_default = DecisionTreeClassifier()\n",
    "classifier_default.fit(X_train, y_train)\n",
    "\n",
    "# Make predictions on the testing set\n",
    "y_pred_default = classifier_default.predict(X_test)\n",
    "\n",
    "# Calculate performance scores using default hyperparameters\n",
    "accuracy_default = accuracy_score(y_test, y_pred_default)\n",
    "precision_default = precision_score(y_test, y_pred_default, average='weighted')\n",
    "recall_default = recall_score(y_test, y_pred_default, average='weighted')\n",
    "f1_default = f1_score(y_test, y_pred_default, average='weighted')\n",
    "\n",
    "# Train a decision tree classifier with tuned hyperparameters (max_depth=2)\n",
    "classifier_tuned = DecisionTreeClassifier(max_depth=3)\n",
    "classifier_tuned.fit(X_train, y_train)\n",
    "\n",
    "# Make predictions on the testing set\n",
    "y_pred_tuned = classifier_tuned.predict(X_test)\n",
    "\n",
    "# Calculate performance scores using tuned hyperparameters\n",
    "accuracy_tuned = accuracy_score(y_test, y_pred_tuned)\n",
    "precision_tuned = precision_score(y_test, y_pred_tuned, average='weighted')\n",
    "recall_tuned = recall_score(y_test, y_pred_tuned, average='weighted')\n",
    "f1_tuned = f1_score(y_test, y_pred_tuned, average='weighted')\n",
    "\n",
    "# Print performance scores\n",
    "print(\"Performance scores with default hyperparameters:\")\n",
    "print(\"Accuracy:\", accuracy_default)\n",
    "print(\"Precision:\", precision_default)\n",
    "print(\"Recall:\", recall_default)\n",
    "print(\"F1-score:\", f1_default)\n",
    "print(\"\\nPerformance scores with tuned hyperparameters (max_depth=2):\")\n",
    "print(\"Accuracy:\", accuracy_tuned)\n",
    "print(\"Precision:\", precision_tuned)\n",
    "print(\"Recall:\", recall_tuned)\n",
    "print(\"F1-score:\", f1_tuned)\n"
   ]
  },
  {
   "cell_type": "code",
   "execution_count": null,
   "metadata": {},
   "outputs": [],
   "source": []
  }
 ],
 "metadata": {
  "kernelspec": {
   "display_name": "Python 3",
   "language": "python",
   "name": "python3"
  },
  "language_info": {
   "codemirror_mode": {
    "name": "ipython",
    "version": 3
   },
   "file_extension": ".py",
   "mimetype": "text/x-python",
   "name": "python",
   "nbconvert_exporter": "python",
   "pygments_lexer": "ipython3",
   "version": "3.10.12"
  }
 },
 "nbformat": 4,
 "nbformat_minor": 2
}
