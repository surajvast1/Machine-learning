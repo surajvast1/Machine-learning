{
 "cells": [
  {
   "cell_type": "code",
   "execution_count": 1,
   "metadata": {},
   "outputs": [
    {
     "name": "stdout",
     "output_type": "stream",
     "text": [
      "Principal Components (Direct SVD):\n",
      "[[ 0.57735027 -0.81649658]\n",
      " [ 0.57735027  0.40824829]\n",
      " [ 0.57735027  0.40824829]]\n",
      "Projected Data (Direct SVD):\n",
      "[[-5.19615242e+00 -1.33226763e-15]\n",
      " [ 0.00000000e+00  0.00000000e+00]\n",
      " [ 5.19615242e+00  1.33226763e-15]]\n"
     ]
    }
   ],
   "source": [
    "import numpy as np\n",
    "from sklearn.decomposition import PCA\n",
    "\n",
    "# Sample data matrix X\n",
    "X = np.array([[1, 2, 3], [4, 5, 6], [7, 8, 9]])\n",
    "\n",
    "# Step 1: Center the data\n",
    "X_centered = X - X.mean(axis=0)\n",
    "\n",
    "# Step 2: Perform SVD\n",
    "U, s, Vt = np.linalg.svd(X_centered)\n",
    "\n",
    "# Step 3: Project the data onto the first 2 principal components\n",
    "W2 = Vt.T[:, :2]\n",
    "X2D = X_centered.dot(W2)\n",
    "\n",
    "print(\"Principal Components (Direct SVD):\")\n",
    "print(W2)\n",
    "print(\"Projected Data (Direct SVD):\")\n",
    "print(X2D)\n"
   ]
  },
  {
   "cell_type": "code",
   "execution_count": 2,
   "metadata": {},
   "outputs": [
    {
     "name": "stdout",
     "output_type": "stream",
     "text": [
      "Principal Components (Scikit-Learn PCA):\n",
      "[[ 0.57735027 -0.81649658]\n",
      " [ 0.57735027  0.40824829]\n",
      " [ 0.57735027  0.40824829]]\n",
      "Projected Data (Scikit-Learn PCA):\n",
      "[[-5.19615242e+00 -1.33226763e-15]\n",
      " [ 0.00000000e+00  0.00000000e+00]\n",
      " [ 5.19615242e+00  1.33226763e-15]]\n"
     ]
    }
   ],
   "source": [
    "from sklearn.decomposition import PCA\n",
    "\n",
    "# Sample data matrix X\n",
    "X = np.array([[1, 2, 3], [4, 5, 6], [7, 8, 9]])\n",
    "\n",
    "# Step 1: Instantiate PCA\n",
    "pca = PCA(n_components=2)\n",
    "# pca = PCA(n_components=0.95) high variance \n",
    "\n",
    "\n",
    "# Step 2: Fit PCA\n",
    "pca.fit(X)\n",
    "\n",
    "# Step 3: Transform Data\n",
    "X2D = pca.transform(X)\n",
    "\n",
    "print(\"Principal Components (Scikit-Learn PCA):\")\n",
    "print(pca.components_.T)\n",
    "print(\"Projected Data (Scikit-Learn PCA):\")\n",
    "print(X2D)\n"
   ]
  }
 ],
 "metadata": {
  "kernelspec": {
   "display_name": "Python 3",
   "language": "python",
   "name": "python3"
  },
  "language_info": {
   "codemirror_mode": {
    "name": "ipython",
    "version": 3
   },
   "file_extension": ".py",
   "mimetype": "text/x-python",
   "name": "python",
   "nbconvert_exporter": "python",
   "pygments_lexer": "ipython3",
   "version": "3.10.12"
  }
 },
 "nbformat": 4,
 "nbformat_minor": 2
}
